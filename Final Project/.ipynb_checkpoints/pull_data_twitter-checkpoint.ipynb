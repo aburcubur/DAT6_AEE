{
 "metadata": {
  "name": "",
  "signature": "sha256:166736b6a9444da05b9a79f1d0300f42b1ef9f5bc23df3b2356190c46c5ed4d2"
 },
 "nbformat": 3,
 "nbformat_minor": 0,
 "worksheets": [
  {
   "cells": [
    {
     "cell_type": "code",
     "collapsed": false,
     "input": [
      "# standard library:\n",
      "import os  \n",
      "\n",
      "from pprint import pprint\n",
      "\n",
      "# other modules:\n",
      "import matplotlib.pyplot as plt\n",
      "import pandas as pd\n",
      "import twitter\n",
      "import yaml\n",
      "\n",
      "from pymongo import MongoClient"
     ],
     "language": "python",
     "metadata": {},
     "outputs": [],
     "prompt_number": 2
    },
    {
     "cell_type": "code",
     "collapsed": false,
     "input": [
      "credentials = yaml.load(open(os.path.expanduser('~/api_cred.yml')))\n",
      "\n",
      "auth = twitter.oauth.OAuth(credentials['ACCESS_TOKEN'], \n",
      "                           credentials['ACCESS_TOKEN_SECRET'],\n",
      "                           credentials['API_KEY'],\n",
      "                           credentials['API_SECRET'])\n",
      "\n",
      "twitter_api = twitter.Twitter(auth=auth)"
     ],
     "language": "python",
     "metadata": {},
     "outputs": [],
     "prompt_number": 3
    },
    {
     "cell_type": "code",
     "collapsed": false,
     "input": [
      "swtor_tweets = twitter_api.search.tweets(q=['SWTOR', 'star wars the old republic'], lang='en', \n",
      "                                         until='2015-05-18', count=100)"
     ],
     "language": "python",
     "metadata": {},
     "outputs": [],
     "prompt_number": 79
    },
    {
     "cell_type": "code",
     "collapsed": false,
     "input": [
      "len(swtor_tweets['statuses'])"
     ],
     "language": "python",
     "metadata": {},
     "outputs": [
      {
       "metadata": {},
       "output_type": "pyout",
       "prompt_number": 80,
       "text": [
        "50"
       ]
      }
     ],
     "prompt_number": 80
    },
    {
     "cell_type": "code",
     "collapsed": false,
     "input": [
      "for status in swtor_tweets['statuses']:\n",
      "    print status.get('user').get('location')\n",
      "    print status['user']['location']\n",
      "    print status.get('text')"
     ],
     "language": "python",
     "metadata": {},
     "outputs": [
      {
       "output_type": "stream",
       "stream": "stdout",
       "text": [
        "New York\n",
        "New York\n",
        "SWTOR Guides: Star Wars The Old Republic complete guide package, get all strategy guides in one bundle! http://t.co/aMd3zSCBSm\n",
        "United Kingdom\n",
        "United Kingdom\n",
        "Swtor - Use The Force - Strategy Guide For Star Wars The Old Republic http://t.co/pbtLDoir8O\n",
        " #Gaming\n",
        "The TARDIS\n",
        "The TARDIS\n",
        "#SWTOR devs promise Galactic Strongholds won't suck. That frightens me.  \n",
        "http://t.co/fA7nubwADj\n",
        "@SWTOR @musco @K0h4ku\n"
       ]
      }
     ],
     "prompt_number": 71
    },
    {
     "cell_type": "code",
     "collapsed": false,
     "input": [],
     "language": "python",
     "metadata": {},
     "outputs": []
    }
   ],
   "metadata": {}
  }
 ]
}